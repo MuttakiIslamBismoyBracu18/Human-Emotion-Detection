{
 "cells": [
  {
   "cell_type": "code",
   "execution_count": null,
   "id": "06976cc0-f082-4900-a53f-e51a3de44efd",
   "metadata": {},
   "outputs": [
    {
     "name": "stdout",
     "output_type": "stream",
     "text": [
      "Channels:\n",
      " - defaults\n",
      "Platform: osx-arm64\n",
      "Collecting package metadata (repodata.json): done\n",
      "Solving environment: done\n",
      "\n",
      "## Package Plan ##\n",
      "\n",
      "  environment location: /opt/anaconda3/envs/deepface_env\n",
      "\n",
      "  added / updated specs:\n",
      "    - python=3.9\n",
      "\n",
      "\n",
      "The following packages will be downloaded:\n",
      "\n",
      "    package                    |            build\n",
      "    ---------------------------|-----------------\n",
      "    ca-certificates-2024.9.24  |       hca03da5_0         131 KB\n",
      "    openssl-3.0.15             |       h80987f9_0         4.3 MB\n",
      "    pip-24.2                   |   py39hca03da5_0         2.2 MB\n",
      "    python-3.9.20              |       hb885b13_1        12.5 MB\n",
      "    setuptools-75.1.0          |   py39hca03da5_0         1.6 MB\n",
      "    tzdata-2024b               |       h04d1e81_0         115 KB\n",
      "    wheel-0.44.0               |   py39hca03da5_0         110 KB\n",
      "    ------------------------------------------------------------\n",
      "                                           Total:        21.1 MB\n",
      "\n",
      "The following NEW packages will be INSTALLED:\n",
      "\n",
      "  ca-certificates    pkgs/main/osx-arm64::ca-certificates-2024.9.24-hca03da5_0 \n",
      "  libcxx             pkgs/main/osx-arm64::libcxx-14.0.6-h848a8c0_0 \n",
      "  libffi             pkgs/main/osx-arm64::libffi-3.4.4-hca03da5_1 \n",
      "  ncurses            pkgs/main/osx-arm64::ncurses-6.4-h313beb8_0 \n",
      "  openssl            pkgs/main/osx-arm64::openssl-3.0.15-h80987f9_0 \n",
      "  pip                pkgs/main/osx-arm64::pip-24.2-py39hca03da5_0 \n",
      "  python             pkgs/main/osx-arm64::python-3.9.20-hb885b13_1 \n",
      "  readline           pkgs/main/osx-arm64::readline-8.2-h1a28f6b_0 \n",
      "  setuptools         pkgs/main/osx-arm64::setuptools-75.1.0-py39hca03da5_0 \n",
      "  sqlite             pkgs/main/osx-arm64::sqlite-3.45.3-h80987f9_0 \n",
      "  tk                 pkgs/main/osx-arm64::tk-8.6.14-h6ba3021_0 \n",
      "  tzdata             pkgs/main/noarch::tzdata-2024b-h04d1e81_0 \n",
      "  wheel              pkgs/main/osx-arm64::wheel-0.44.0-py39hca03da5_0 \n",
      "  xz                 pkgs/main/osx-arm64::xz-5.4.6-h80987f9_1 \n",
      "  zlib               pkgs/main/osx-arm64::zlib-1.2.13-h18a0788_1 \n",
      "\n",
      "\n",
      "Proceed ([y]/n)? "
     ]
    }
   ],
   "source": [
    "conda create -n deepface_env python=3.9"
   ]
  },
  {
   "cell_type": "code",
   "execution_count": null,
   "id": "15a5787c-9549-4c0c-a1d8-90e1df0eb716",
   "metadata": {},
   "outputs": [],
   "source": [
    "y"
   ]
  },
  {
   "cell_type": "code",
   "execution_count": null,
   "id": "f69c04a5-a08c-4000-ac5d-edcda176fc94",
   "metadata": {},
   "outputs": [],
   "source": [
    "conda activate deepface_env"
   ]
  },
  {
   "cell_type": "code",
   "execution_count": null,
   "id": "79b6d182-e7da-449e-a694-b8c548294394",
   "metadata": {},
   "outputs": [],
   "source": []
  }
 ],
 "metadata": {
  "kernelspec": {
   "display_name": "Python 3 (ipykernel)",
   "language": "python",
   "name": "python3"
  },
  "language_info": {
   "codemirror_mode": {
    "name": "ipython",
    "version": 3
   },
   "file_extension": ".py",
   "mimetype": "text/x-python",
   "name": "python",
   "nbconvert_exporter": "python",
   "pygments_lexer": "ipython3",
   "version": "3.12.4"
  }
 },
 "nbformat": 4,
 "nbformat_minor": 5
}
