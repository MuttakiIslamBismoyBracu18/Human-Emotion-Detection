{
 "cells": [
  {
   "cell_type": "code",
   "execution_count": 1,
   "id": "43635192-2e81-41ad-9fe7-227187cd3762",
   "metadata": {},
   "outputs": [],
   "source": [
    "#!pip install --upgrade deepface"
   ]
  },
  {
   "cell_type": "code",
   "execution_count": null,
   "id": "7698d81d-16c9-451b-821f-1ca233f6ca13",
   "metadata": {},
   "outputs": [
    {
     "name": "stdout",
     "output_type": "stream",
     "text": [
      "Channels:\n",
      " - defaults\n",
      "Platform: osx-arm64\n",
      "Collecting package metadata (repodata.json): done\n",
      "Solving environment: done\n",
      "\n",
      "## Package Plan ##\n",
      "\n",
      "  environment location: /opt/anaconda3/envs/deepface_env\n",
      "\n",
      "  added / updated specs:\n",
      "    - python=3.9\n",
      "\n",
      "\n",
      "The following packages will be downloaded:\n",
      "\n",
      "    package                    |            build\n",
      "    ---------------------------|-----------------\n",
      "    ca-certificates-2024.9.24  |       hca03da5_0         131 KB\n",
      "    openssl-3.0.15             |       h80987f9_0         4.3 MB\n",
      "    pip-24.2                   |   py39hca03da5_0         2.2 MB\n",
      "    python-3.9.20              |       hb885b13_1        12.5 MB\n",
      "    setuptools-75.1.0          |   py39hca03da5_0         1.6 MB\n",
      "    tzdata-2024b               |       h04d1e81_0         115 KB\n",
      "    wheel-0.44.0               |   py39hca03da5_0         110 KB\n",
      "    ------------------------------------------------------------\n",
      "                                           Total:        21.1 MB\n",
      "\n",
      "The following NEW packages will be INSTALLED:\n",
      "\n",
      "  ca-certificates    pkgs/main/osx-arm64::ca-certificates-2024.9.24-hca03da5_0 \n",
      "  libcxx             pkgs/main/osx-arm64::libcxx-14.0.6-h848a8c0_0 \n",
      "  libffi             pkgs/main/osx-arm64::libffi-3.4.4-hca03da5_1 \n",
      "  ncurses            pkgs/main/osx-arm64::ncurses-6.4-h313beb8_0 \n",
      "  openssl            pkgs/main/osx-arm64::openssl-3.0.15-h80987f9_0 \n",
      "  pip                pkgs/main/osx-arm64::pip-24.2-py39hca03da5_0 \n",
      "  python             pkgs/main/osx-arm64::python-3.9.20-hb885b13_1 \n",
      "  readline           pkgs/main/osx-arm64::readline-8.2-h1a28f6b_0 \n",
      "  setuptools         pkgs/main/osx-arm64::setuptools-75.1.0-py39hca03da5_0 \n",
      "  sqlite             pkgs/main/osx-arm64::sqlite-3.45.3-h80987f9_0 \n",
      "  tk                 pkgs/main/osx-arm64::tk-8.6.14-h6ba3021_0 \n",
      "  tzdata             pkgs/main/noarch::tzdata-2024b-h04d1e81_0 \n",
      "  wheel              pkgs/main/osx-arm64::wheel-0.44.0-py39hca03da5_0 \n",
      "  xz                 pkgs/main/osx-arm64::xz-5.4.6-h80987f9_1 \n",
      "  zlib               pkgs/main/osx-arm64::zlib-1.2.13-h18a0788_1 \n",
      "\n",
      "\n",
      "Proceed ([y]/n)? "
     ]
    }
   ],
   "source": [
    "conda create -n deepface_env python=3.9"
   ]
  },
  {
   "cell_type": "code",
   "execution_count": null,
   "id": "7f44e1ae-a95e-44e5-a86e-3524ec5f7c30",
   "metadata": {},
   "outputs": [],
   "source": [
    "[y]"
   ]
  },
  {
   "cell_type": "code",
   "execution_count": 27,
   "id": "fce533de-79bc-4ac8-a2f5-9ac06e480afb",
   "metadata": {},
   "outputs": [
    {
     "name": "stdout",
     "output_type": "stream",
     "text": [
      "Requirement already satisfied: tensorflow in /opt/anaconda3/lib/python3.12/site-packages (2.17.0)\n",
      "Requirement already satisfied: keras in /opt/anaconda3/lib/python3.12/site-packages (3.5.0)\n",
      "Collecting keras\n",
      "  Downloading keras-3.6.0-py3-none-any.whl.metadata (5.8 kB)\n",
      "Requirement already satisfied: absl-py>=1.0.0 in /opt/anaconda3/lib/python3.12/site-packages (from tensorflow) (2.1.0)\n",
      "Requirement already satisfied: astunparse>=1.6.0 in /opt/anaconda3/lib/python3.12/site-packages (from tensorflow) (1.6.3)\n",
      "Requirement already satisfied: flatbuffers>=24.3.25 in /opt/anaconda3/lib/python3.12/site-packages (from tensorflow) (24.3.25)\n",
      "Requirement already satisfied: gast!=0.5.0,!=0.5.1,!=0.5.2,>=0.2.1 in /opt/anaconda3/lib/python3.12/site-packages (from tensorflow) (0.6.0)\n",
      "Requirement already satisfied: google-pasta>=0.1.1 in /opt/anaconda3/lib/python3.12/site-packages (from tensorflow) (0.2.0)\n",
      "Requirement already satisfied: h5py>=3.10.0 in /opt/anaconda3/lib/python3.12/site-packages (from tensorflow) (3.11.0)\n",
      "Requirement already satisfied: libclang>=13.0.0 in /opt/anaconda3/lib/python3.12/site-packages (from tensorflow) (18.1.1)\n",
      "Requirement already satisfied: ml-dtypes<0.5.0,>=0.3.1 in /opt/anaconda3/lib/python3.12/site-packages (from tensorflow) (0.4.0)\n",
      "Requirement already satisfied: opt-einsum>=2.3.2 in /opt/anaconda3/lib/python3.12/site-packages (from tensorflow) (3.3.0)\n",
      "Requirement already satisfied: packaging in /opt/anaconda3/lib/python3.12/site-packages (from tensorflow) (23.2)\n",
      "Requirement already satisfied: protobuf!=4.21.0,!=4.21.1,!=4.21.2,!=4.21.3,!=4.21.4,!=4.21.5,<5.0.0dev,>=3.20.3 in /opt/anaconda3/lib/python3.12/site-packages (from tensorflow) (3.20.3)\n",
      "Requirement already satisfied: requests<3,>=2.21.0 in /opt/anaconda3/lib/python3.12/site-packages (from tensorflow) (2.32.2)\n",
      "Requirement already satisfied: setuptools in /opt/anaconda3/lib/python3.12/site-packages (from tensorflow) (69.5.1)\n",
      "Requirement already satisfied: six>=1.12.0 in /opt/anaconda3/lib/python3.12/site-packages (from tensorflow) (1.16.0)\n",
      "Requirement already satisfied: termcolor>=1.1.0 in /opt/anaconda3/lib/python3.12/site-packages (from tensorflow) (2.4.0)\n",
      "Requirement already satisfied: typing-extensions>=3.6.6 in /opt/anaconda3/lib/python3.12/site-packages (from tensorflow) (4.11.0)\n",
      "Requirement already satisfied: wrapt>=1.11.0 in /opt/anaconda3/lib/python3.12/site-packages (from tensorflow) (1.14.1)\n",
      "Requirement already satisfied: grpcio<2.0,>=1.24.3 in /opt/anaconda3/lib/python3.12/site-packages (from tensorflow) (1.66.0)\n",
      "Requirement already satisfied: tensorboard<2.18,>=2.17 in /opt/anaconda3/lib/python3.12/site-packages (from tensorflow) (2.17.1)\n",
      "Requirement already satisfied: numpy<2.0.0,>=1.26.0 in /opt/anaconda3/lib/python3.12/site-packages (from tensorflow) (1.26.4)\n",
      "Requirement already satisfied: rich in /opt/anaconda3/lib/python3.12/site-packages (from keras) (13.3.5)\n",
      "Requirement already satisfied: namex in /opt/anaconda3/lib/python3.12/site-packages (from keras) (0.0.8)\n",
      "Requirement already satisfied: optree in /opt/anaconda3/lib/python3.12/site-packages (from keras) (0.12.1)\n",
      "Requirement already satisfied: wheel<1.0,>=0.23.0 in /opt/anaconda3/lib/python3.12/site-packages (from astunparse>=1.6.0->tensorflow) (0.43.0)\n",
      "Requirement already satisfied: charset-normalizer<4,>=2 in /opt/anaconda3/lib/python3.12/site-packages (from requests<3,>=2.21.0->tensorflow) (2.0.4)\n",
      "Requirement already satisfied: idna<4,>=2.5 in /opt/anaconda3/lib/python3.12/site-packages (from requests<3,>=2.21.0->tensorflow) (3.7)\n",
      "Requirement already satisfied: urllib3<3,>=1.21.1 in /opt/anaconda3/lib/python3.12/site-packages (from requests<3,>=2.21.0->tensorflow) (2.2.2)\n",
      "Requirement already satisfied: certifi>=2017.4.17 in /opt/anaconda3/lib/python3.12/site-packages (from requests<3,>=2.21.0->tensorflow) (2024.6.2)\n",
      "Requirement already satisfied: markdown>=2.6.8 in /opt/anaconda3/lib/python3.12/site-packages (from tensorboard<2.18,>=2.17->tensorflow) (3.4.1)\n",
      "Requirement already satisfied: tensorboard-data-server<0.8.0,>=0.7.0 in /opt/anaconda3/lib/python3.12/site-packages (from tensorboard<2.18,>=2.17->tensorflow) (0.7.2)\n",
      "Requirement already satisfied: werkzeug>=1.0.1 in /opt/anaconda3/lib/python3.12/site-packages (from tensorboard<2.18,>=2.17->tensorflow) (3.0.3)\n",
      "Requirement already satisfied: markdown-it-py<3.0.0,>=2.2.0 in /opt/anaconda3/lib/python3.12/site-packages (from rich->keras) (2.2.0)\n",
      "Requirement already satisfied: pygments<3.0.0,>=2.13.0 in /opt/anaconda3/lib/python3.12/site-packages (from rich->keras) (2.15.1)\n",
      "Requirement already satisfied: mdurl~=0.1 in /opt/anaconda3/lib/python3.12/site-packages (from markdown-it-py<3.0.0,>=2.2.0->rich->keras) (0.1.0)\n",
      "Requirement already satisfied: MarkupSafe>=2.1.1 in /opt/anaconda3/lib/python3.12/site-packages (from werkzeug>=1.0.1->tensorboard<2.18,>=2.17->tensorflow) (2.1.3)\n",
      "Downloading keras-3.6.0-py3-none-any.whl (1.2 MB)\n",
      "\u001b[2K   \u001b[90m━━━━━━━━━━━━━━━━━━━━━━━━━━━━━━━━━━━━━━━━\u001b[0m \u001b[32m1.2/1.2 MB\u001b[0m \u001b[31m7.3 MB/s\u001b[0m eta \u001b[36m0:00:00\u001b[0ma \u001b[36m0:00:01\u001b[0m\n",
      "\u001b[?25hInstalling collected packages: keras\n",
      "  Attempting uninstall: keras\n",
      "    Found existing installation: keras 3.5.0\n",
      "    Uninstalling keras-3.5.0:\n",
      "      Successfully uninstalled keras-3.5.0\n",
      "Successfully installed keras-3.6.0\n"
     ]
    }
   ],
   "source": [
    "!pip install --upgrade tensorflow keras"
   ]
  },
  {
   "cell_type": "code",
   "execution_count": 31,
   "id": "cbdcc671-a0af-45d6-a42d-3a8f411a1340",
   "metadata": {},
   "outputs": [
    {
     "name": "stdout",
     "output_type": "stream",
     "text": [
      "Requirement already satisfied: deepface in /opt/anaconda3/lib/python3.12/site-packages (0.0.72)\n",
      "Collecting deepface\n",
      "  Using cached deepface-0.0.93-py3-none-any.whl.metadata (30 kB)\n",
      "Requirement already satisfied: requests>=2.27.1 in /opt/anaconda3/lib/python3.12/site-packages (from deepface) (2.32.2)\n",
      "Requirement already satisfied: numpy>=1.14.0 in /opt/anaconda3/lib/python3.12/site-packages (from deepface) (1.26.4)\n",
      "Requirement already satisfied: pandas>=0.23.4 in /opt/anaconda3/lib/python3.12/site-packages (from deepface) (2.2.2)\n",
      "Requirement already satisfied: gdown>=3.10.1 in /opt/anaconda3/lib/python3.12/site-packages (from deepface) (5.2.0)\n",
      "Requirement already satisfied: tqdm>=4.30.0 in /opt/anaconda3/lib/python3.12/site-packages (from deepface) (4.66.4)\n",
      "Requirement already satisfied: Pillow>=5.2.0 in /opt/anaconda3/lib/python3.12/site-packages (from deepface) (10.3.0)\n",
      "Requirement already satisfied: opencv-python>=4.5.5.64 in /opt/anaconda3/lib/python3.12/site-packages (from deepface) (4.10.0.84)\n",
      "Requirement already satisfied: tensorflow>=1.9.0 in /opt/anaconda3/lib/python3.12/site-packages (from deepface) (2.17.0)\n",
      "Requirement already satisfied: keras>=2.2.0 in /opt/anaconda3/lib/python3.12/site-packages (from deepface) (3.6.0)\n",
      "Requirement already satisfied: Flask>=1.1.2 in /opt/anaconda3/lib/python3.12/site-packages (from deepface) (3.0.3)\n",
      "Requirement already satisfied: flask-cors>=4.0.1 in /opt/anaconda3/lib/python3.12/site-packages (from deepface) (4.0.1)\n",
      "Requirement already satisfied: mtcnn>=0.1.0 in /opt/anaconda3/lib/python3.12/site-packages (from deepface) (0.1.1)\n",
      "Requirement already satisfied: retina-face>=0.0.1 in /opt/anaconda3/lib/python3.12/site-packages (from deepface) (0.0.17)\n",
      "Requirement already satisfied: fire>=0.4.0 in /opt/anaconda3/lib/python3.12/site-packages (from deepface) (0.7.0)\n",
      "Requirement already satisfied: gunicorn>=20.1.0 in /opt/anaconda3/lib/python3.12/site-packages (from deepface) (23.0.0)\n",
      "Requirement already satisfied: termcolor in /opt/anaconda3/lib/python3.12/site-packages (from fire>=0.4.0->deepface) (2.4.0)\n",
      "Requirement already satisfied: Werkzeug>=3.0.0 in /opt/anaconda3/lib/python3.12/site-packages (from Flask>=1.1.2->deepface) (3.0.3)\n",
      "Requirement already satisfied: Jinja2>=3.1.2 in /opt/anaconda3/lib/python3.12/site-packages (from Flask>=1.1.2->deepface) (3.1.4)\n",
      "Requirement already satisfied: itsdangerous>=2.1.2 in /opt/anaconda3/lib/python3.12/site-packages (from Flask>=1.1.2->deepface) (2.2.0)\n",
      "Requirement already satisfied: click>=8.1.3 in /opt/anaconda3/lib/python3.12/site-packages (from Flask>=1.1.2->deepface) (8.1.7)\n",
      "Requirement already satisfied: blinker>=1.6.2 in /opt/anaconda3/lib/python3.12/site-packages (from Flask>=1.1.2->deepface) (1.6.2)\n",
      "Requirement already satisfied: beautifulsoup4 in /opt/anaconda3/lib/python3.12/site-packages (from gdown>=3.10.1->deepface) (4.12.3)\n",
      "Requirement already satisfied: filelock in /opt/anaconda3/lib/python3.12/site-packages (from gdown>=3.10.1->deepface) (3.13.1)\n",
      "Requirement already satisfied: packaging in /opt/anaconda3/lib/python3.12/site-packages (from gunicorn>=20.1.0->deepface) (23.2)\n",
      "Requirement already satisfied: absl-py in /opt/anaconda3/lib/python3.12/site-packages (from keras>=2.2.0->deepface) (2.1.0)\n",
      "Requirement already satisfied: rich in /opt/anaconda3/lib/python3.12/site-packages (from keras>=2.2.0->deepface) (13.3.5)\n",
      "Requirement already satisfied: namex in /opt/anaconda3/lib/python3.12/site-packages (from keras>=2.2.0->deepface) (0.0.8)\n",
      "Requirement already satisfied: h5py in /opt/anaconda3/lib/python3.12/site-packages (from keras>=2.2.0->deepface) (3.11.0)\n",
      "Requirement already satisfied: optree in /opt/anaconda3/lib/python3.12/site-packages (from keras>=2.2.0->deepface) (0.12.1)\n",
      "Requirement already satisfied: ml-dtypes in /opt/anaconda3/lib/python3.12/site-packages (from keras>=2.2.0->deepface) (0.4.0)\n",
      "Requirement already satisfied: python-dateutil>=2.8.2 in /opt/anaconda3/lib/python3.12/site-packages (from pandas>=0.23.4->deepface) (2.9.0.post0)\n",
      "Requirement already satisfied: pytz>=2020.1 in /opt/anaconda3/lib/python3.12/site-packages (from pandas>=0.23.4->deepface) (2024.1)\n",
      "Requirement already satisfied: tzdata>=2022.7 in /opt/anaconda3/lib/python3.12/site-packages (from pandas>=0.23.4->deepface) (2023.3)\n",
      "Requirement already satisfied: charset-normalizer<4,>=2 in /opt/anaconda3/lib/python3.12/site-packages (from requests>=2.27.1->deepface) (2.0.4)\n",
      "Requirement already satisfied: idna<4,>=2.5 in /opt/anaconda3/lib/python3.12/site-packages (from requests>=2.27.1->deepface) (3.7)\n",
      "Requirement already satisfied: urllib3<3,>=1.21.1 in /opt/anaconda3/lib/python3.12/site-packages (from requests>=2.27.1->deepface) (2.2.2)\n",
      "Requirement already satisfied: certifi>=2017.4.17 in /opt/anaconda3/lib/python3.12/site-packages (from requests>=2.27.1->deepface) (2024.6.2)\n",
      "Requirement already satisfied: astunparse>=1.6.0 in /opt/anaconda3/lib/python3.12/site-packages (from tensorflow>=1.9.0->deepface) (1.6.3)\n",
      "Requirement already satisfied: flatbuffers>=24.3.25 in /opt/anaconda3/lib/python3.12/site-packages (from tensorflow>=1.9.0->deepface) (24.3.25)\n",
      "Requirement already satisfied: gast!=0.5.0,!=0.5.1,!=0.5.2,>=0.2.1 in /opt/anaconda3/lib/python3.12/site-packages (from tensorflow>=1.9.0->deepface) (0.6.0)\n",
      "Requirement already satisfied: google-pasta>=0.1.1 in /opt/anaconda3/lib/python3.12/site-packages (from tensorflow>=1.9.0->deepface) (0.2.0)\n",
      "Requirement already satisfied: libclang>=13.0.0 in /opt/anaconda3/lib/python3.12/site-packages (from tensorflow>=1.9.0->deepface) (18.1.1)\n",
      "Requirement already satisfied: opt-einsum>=2.3.2 in /opt/anaconda3/lib/python3.12/site-packages (from tensorflow>=1.9.0->deepface) (3.3.0)\n",
      "Requirement already satisfied: protobuf!=4.21.0,!=4.21.1,!=4.21.2,!=4.21.3,!=4.21.4,!=4.21.5,<5.0.0dev,>=3.20.3 in /opt/anaconda3/lib/python3.12/site-packages (from tensorflow>=1.9.0->deepface) (3.20.3)\n",
      "Requirement already satisfied: setuptools in /opt/anaconda3/lib/python3.12/site-packages (from tensorflow>=1.9.0->deepface) (69.5.1)\n",
      "Requirement already satisfied: six>=1.12.0 in /opt/anaconda3/lib/python3.12/site-packages (from tensorflow>=1.9.0->deepface) (1.16.0)\n",
      "Requirement already satisfied: typing-extensions>=3.6.6 in /opt/anaconda3/lib/python3.12/site-packages (from tensorflow>=1.9.0->deepface) (4.11.0)\n",
      "Requirement already satisfied: wrapt>=1.11.0 in /opt/anaconda3/lib/python3.12/site-packages (from tensorflow>=1.9.0->deepface) (1.14.1)\n",
      "Requirement already satisfied: grpcio<2.0,>=1.24.3 in /opt/anaconda3/lib/python3.12/site-packages (from tensorflow>=1.9.0->deepface) (1.66.0)\n",
      "Requirement already satisfied: tensorboard<2.18,>=2.17 in /opt/anaconda3/lib/python3.12/site-packages (from tensorflow>=1.9.0->deepface) (2.17.1)\n",
      "Requirement already satisfied: wheel<1.0,>=0.23.0 in /opt/anaconda3/lib/python3.12/site-packages (from astunparse>=1.6.0->tensorflow>=1.9.0->deepface) (0.43.0)\n",
      "Requirement already satisfied: MarkupSafe>=2.0 in /opt/anaconda3/lib/python3.12/site-packages (from Jinja2>=3.1.2->Flask>=1.1.2->deepface) (2.1.3)\n",
      "Requirement already satisfied: markdown>=2.6.8 in /opt/anaconda3/lib/python3.12/site-packages (from tensorboard<2.18,>=2.17->tensorflow>=1.9.0->deepface) (3.4.1)\n",
      "Requirement already satisfied: tensorboard-data-server<0.8.0,>=0.7.0 in /opt/anaconda3/lib/python3.12/site-packages (from tensorboard<2.18,>=2.17->tensorflow>=1.9.0->deepface) (0.7.2)\n",
      "Requirement already satisfied: soupsieve>1.2 in /opt/anaconda3/lib/python3.12/site-packages (from beautifulsoup4->gdown>=3.10.1->deepface) (2.5)\n",
      "Requirement already satisfied: PySocks!=1.5.7,>=1.5.6 in /opt/anaconda3/lib/python3.12/site-packages (from requests[socks]->gdown>=3.10.1->deepface) (1.7.1)\n",
      "Requirement already satisfied: markdown-it-py<3.0.0,>=2.2.0 in /opt/anaconda3/lib/python3.12/site-packages (from rich->keras>=2.2.0->deepface) (2.2.0)\n",
      "Requirement already satisfied: pygments<3.0.0,>=2.13.0 in /opt/anaconda3/lib/python3.12/site-packages (from rich->keras>=2.2.0->deepface) (2.15.1)\n",
      "Requirement already satisfied: mdurl~=0.1 in /opt/anaconda3/lib/python3.12/site-packages (from markdown-it-py<3.0.0,>=2.2.0->rich->keras>=2.2.0->deepface) (0.1.0)\n",
      "Using cached deepface-0.0.93-py3-none-any.whl (108 kB)\n",
      "Installing collected packages: deepface\n",
      "  Attempting uninstall: deepface\n",
      "    Found existing installation: deepface 0.0.72\n",
      "    Uninstalling deepface-0.0.72:\n",
      "      Successfully uninstalled deepface-0.0.72\n",
      "Successfully installed deepface-0.0.93\n"
     ]
    }
   ],
   "source": [
    "!pip install --upgrade deepface"
   ]
  },
  {
   "cell_type": "code",
   "execution_count": 33,
   "id": "4143f7b2-0d77-41f2-8ba1-cfe2b891049e",
   "metadata": {},
   "outputs": [
    {
     "ename": "ImportError",
     "evalue": "cannot import name '__version__' from 'deepface' (/opt/anaconda3/lib/python3.12/site-packages/deepface/__init__.py)",
     "output_type": "error",
     "traceback": [
      "\u001b[0;31m---------------------------------------------------------------------------\u001b[0m",
      "\u001b[0;31mImportError\u001b[0m                               Traceback (most recent call last)",
      "Cell \u001b[0;32mIn[33], line 1\u001b[0m\n\u001b[0;32m----> 1\u001b[0m \u001b[38;5;28;01mfrom\u001b[39;00m \u001b[38;5;21;01mdeepface\u001b[39;00m \u001b[38;5;28;01mimport\u001b[39;00m DeepFace\n\u001b[1;32m      2\u001b[0m \u001b[38;5;28;01mimport\u001b[39;00m \u001b[38;5;21;01mcv2\u001b[39;00m\n\u001b[1;32m      4\u001b[0m \u001b[38;5;66;03m# Load a sample image\u001b[39;00m\n",
      "File \u001b[0;32m/opt/anaconda3/lib/python3.12/site-packages/deepface/DeepFace.py:30\u001b[0m\n\u001b[1;32m     25\u001b[0m \u001b[38;5;28;01mdef\u001b[39;00m \u001b[38;5;21mbuild_model\u001b[39m(model_name):\n\u001b[1;32m     27\u001b[0m \u001b[38;5;250m\t\u001b[39m\u001b[38;5;124;03m\"\"\"\u001b[39;00m\n\u001b[1;32m     28\u001b[0m \u001b[38;5;124;03m\tThis function builds a deepface model\u001b[39;00m\n\u001b[1;32m     29\u001b[0m \u001b[38;5;124;03m\tParameters:\u001b[39;00m\n\u001b[0;32m---> 30\u001b[0m \u001b[38;5;124;03m\t\tmodel_name (string): face recognition or facial attribute model\u001b[39;00m\n\u001b[1;32m     31\u001b[0m \u001b[38;5;124;03m\t\t\tVGG-Face, Facenet, OpenFace, DeepFace, DeepID for face recognition\u001b[39;00m\n\u001b[1;32m     32\u001b[0m \u001b[38;5;124;03m\t\t\tAge, Gender, Emotion, Race for facial attributes\u001b[39;00m\n\u001b[1;32m     33\u001b[0m \n\u001b[1;32m     34\u001b[0m \u001b[38;5;124;03m\tReturns:\u001b[39;00m\n\u001b[1;32m     35\u001b[0m \u001b[38;5;124;03m\t\tbuilt deepface model\u001b[39;00m\n\u001b[1;32m     36\u001b[0m \u001b[38;5;124;03m\t\"\"\"\u001b[39;00m\n\u001b[1;32m     38\u001b[0m \t\u001b[38;5;28;01mglobal\u001b[39;00m model_obj \u001b[38;5;66;03m#singleton design pattern\u001b[39;00m\n\u001b[1;32m     40\u001b[0m \tmodels \u001b[38;5;241m=\u001b[39m {\n\u001b[1;32m     41\u001b[0m \t\t\u001b[38;5;124m'\u001b[39m\u001b[38;5;124mVGG-Face\u001b[39m\u001b[38;5;124m'\u001b[39m: VGGFace\u001b[38;5;241m.\u001b[39mloadModel,\n\u001b[1;32m     42\u001b[0m \t\t\u001b[38;5;124m'\u001b[39m\u001b[38;5;124mOpenFace\u001b[39m\u001b[38;5;124m'\u001b[39m: OpenFace\u001b[38;5;241m.\u001b[39mloadModel,\n\u001b[0;32m   (...)\u001b[0m\n\u001b[1;32m     52\u001b[0m \t\t\u001b[38;5;124m'\u001b[39m\u001b[38;5;124mRace\u001b[39m\u001b[38;5;124m'\u001b[39m: Race\u001b[38;5;241m.\u001b[39mloadModel\n\u001b[1;32m     53\u001b[0m \t}\n",
      "\u001b[0;31mImportError\u001b[0m: cannot import name '__version__' from 'deepface' (/opt/anaconda3/lib/python3.12/site-packages/deepface/__init__.py)"
     ]
    }
   ],
   "source": [
    "from deepface import DeepFace\n",
    "import cv2\n",
    "\n",
    "# Load a sample image\n",
    "img = cv2.imread(\"/Users/muttakibismoy/Downloads/Bismoy_1.jpg\")  # Replace with your image path\n",
    "\n",
    "# Test DeepFace emotion analysis on a single image with specific backend\n",
    "result = DeepFace.analyze(img, actions=['emotion'], detector_backend='mtcnn')\n",
    "print(result)"
   ]
  },
  {
   "cell_type": "code",
   "execution_count": null,
   "id": "31619638-3d35-4853-a4cd-7db8ccc2ff68",
   "metadata": {},
   "outputs": [],
   "source": [
    "#!pip install tensorflow keras opencv-python-headless"
   ]
  },
  {
   "cell_type": "code",
   "execution_count": null,
   "id": "0986f3a0-2763-4443-b574-f3b8936c8a03",
   "metadata": {},
   "outputs": [],
   "source": [
    "#!pip install deepface==0.0.72"
   ]
  },
  {
   "cell_type": "code",
   "execution_count": null,
   "id": "20d729d2-ad92-4287-b8a9-3180e615eeee",
   "metadata": {},
   "outputs": [],
   "source": [
    "import cv2\n",
    "from deepface import DeepFace\n",
    "\n",
    "# Load the image\n",
    "img = cv2.imread(\"/Users/muttakibismoy/Downloads/2.jpg\")\n",
    "\n",
    "# Use OpenCV to detect faces (Haar cascades as an example)\n",
    "face_cascade = cv2.CascadeClassifier(cv2.data.haarcascades + 'haarcascade_frontalface_default.xml')\n",
    "\n",
    "gray = cv2.cvtColor(img, cv2.COLOR_BGR2GRAY)\n",
    "faces = face_cascade.detectMultiScale(gray, 1.1, 4)\n",
    "\n",
    "# If a face is found, crop and analyze it\n",
    "for (x, y, w, h) in faces:\n",
    "    face = img[y:y+h, x:x+w]  # Crop the face\n",
    "    \n",
    "    # Analyze the cropped face for emotions\n",
    "    result = DeepFace.analyze(face, actions=['emotion'], detector_backend='mtcnn')\n",
    "    print(result)"
   ]
  },
  {
   "cell_type": "code",
   "execution_count": null,
   "id": "24be56e8-a964-46e3-a532-8f7f8e886957",
   "metadata": {},
   "outputs": [],
   "source": [
    "#!pip install deepface opencv-python matplotlib"
   ]
  },
  {
   "cell_type": "code",
   "execution_count": 13,
   "id": "e01864af-0cf7-45cf-89b1-3f9fdac4737d",
   "metadata": {},
   "outputs": [
    {
     "ename": "ImportError",
     "evalue": "cannot import name 'LocallyConnected2D' from 'tensorflow.keras.layers' (/opt/anaconda3/lib/python3.12/site-packages/keras/_tf_keras/keras/layers/__init__.py)",
     "output_type": "error",
     "traceback": [
      "\u001b[0;31m---------------------------------------------------------------------------\u001b[0m",
      "\u001b[0;31mImportError\u001b[0m                               Traceback (most recent call last)",
      "Cell \u001b[0;32mIn[13], line 3\u001b[0m\n\u001b[1;32m      1\u001b[0m \u001b[38;5;28;01mimport\u001b[39;00m \u001b[38;5;21;01mcv2\u001b[39;00m\n\u001b[1;32m      2\u001b[0m \u001b[38;5;28;01mimport\u001b[39;00m \u001b[38;5;21;01mmatplotlib\u001b[39;00m\u001b[38;5;21;01m.\u001b[39;00m\u001b[38;5;21;01mpyplot\u001b[39;00m \u001b[38;5;28;01mas\u001b[39;00m \u001b[38;5;21;01mplt\u001b[39;00m\n\u001b[0;32m----> 3\u001b[0m \u001b[38;5;28;01mfrom\u001b[39;00m \u001b[38;5;21;01mdeepface\u001b[39;00m \u001b[38;5;28;01mimport\u001b[39;00m DeepFace\n\u001b[1;32m      4\u001b[0m \u001b[38;5;28;01mimport\u001b[39;00m \u001b[38;5;21;01mnumpy\u001b[39;00m \u001b[38;5;28;01mas\u001b[39;00m \u001b[38;5;21;01mnp\u001b[39;00m\n",
      "File \u001b[0;32m/opt/anaconda3/lib/python3.12/site-packages/deepface/DeepFace.py:15\u001b[0m\n\u001b[1;32m     12\u001b[0m \u001b[38;5;28;01mfrom\u001b[39;00m \u001b[38;5;21;01mtqdm\u001b[39;00m \u001b[38;5;28;01mimport\u001b[39;00m tqdm\n\u001b[1;32m     13\u001b[0m \u001b[38;5;28;01mimport\u001b[39;00m \u001b[38;5;21;01mpickle\u001b[39;00m\n\u001b[0;32m---> 15\u001b[0m \u001b[38;5;28;01mfrom\u001b[39;00m \u001b[38;5;21;01mdeepface\u001b[39;00m\u001b[38;5;21;01m.\u001b[39;00m\u001b[38;5;21;01mbasemodels\u001b[39;00m \u001b[38;5;28;01mimport\u001b[39;00m VGGFace, OpenFace, Facenet, Facenet512, FbDeepFace, DeepID, DlibWrapper, ArcFace, Boosting\n\u001b[1;32m     16\u001b[0m \u001b[38;5;28;01mfrom\u001b[39;00m \u001b[38;5;21;01mdeepface\u001b[39;00m\u001b[38;5;21;01m.\u001b[39;00m\u001b[38;5;21;01mextendedmodels\u001b[39;00m \u001b[38;5;28;01mimport\u001b[39;00m Age, Gender, Race, Emotion\n\u001b[1;32m     17\u001b[0m \u001b[38;5;28;01mfrom\u001b[39;00m \u001b[38;5;21;01mdeepface\u001b[39;00m\u001b[38;5;21;01m.\u001b[39;00m\u001b[38;5;21;01mcommons\u001b[39;00m \u001b[38;5;28;01mimport\u001b[39;00m functions, realtime, distance \u001b[38;5;28;01mas\u001b[39;00m dst\n",
      "File \u001b[0;32m/opt/anaconda3/lib/python3.12/site-packages/deepface/basemodels/FbDeepFace.py:8\u001b[0m\n\u001b[1;32m      6\u001b[0m \u001b[38;5;28;01mfrom\u001b[39;00m \u001b[38;5;21;01mtensorflow\u001b[39;00m \u001b[38;5;28;01mimport\u001b[39;00m keras\n\u001b[1;32m      7\u001b[0m \u001b[38;5;28;01mfrom\u001b[39;00m \u001b[38;5;21;01mtensorflow\u001b[39;00m\u001b[38;5;21;01m.\u001b[39;00m\u001b[38;5;21;01mkeras\u001b[39;00m\u001b[38;5;21;01m.\u001b[39;00m\u001b[38;5;21;01mmodels\u001b[39;00m \u001b[38;5;28;01mimport\u001b[39;00m Model, Sequential\n\u001b[0;32m----> 8\u001b[0m \u001b[38;5;28;01mfrom\u001b[39;00m \u001b[38;5;21;01mtensorflow\u001b[39;00m\u001b[38;5;21;01m.\u001b[39;00m\u001b[38;5;21;01mkeras\u001b[39;00m\u001b[38;5;21;01m.\u001b[39;00m\u001b[38;5;21;01mlayers\u001b[39;00m \u001b[38;5;28;01mimport\u001b[39;00m Convolution2D, LocallyConnected2D, MaxPooling2D, Flatten, Dense, Dropout\n\u001b[1;32m     10\u001b[0m \u001b[38;5;28;01mfrom\u001b[39;00m \u001b[38;5;21;01mdeepface\u001b[39;00m\u001b[38;5;21;01m.\u001b[39;00m\u001b[38;5;21;01mcommons\u001b[39;00m \u001b[38;5;28;01mimport\u001b[39;00m functions\n\u001b[1;32m     12\u001b[0m \u001b[38;5;66;03m#-------------------------------------\u001b[39;00m\n",
      "\u001b[0;31mImportError\u001b[0m: cannot import name 'LocallyConnected2D' from 'tensorflow.keras.layers' (/opt/anaconda3/lib/python3.12/site-packages/keras/_tf_keras/keras/layers/__init__.py)"
     ]
    }
   ],
   "source": [
    "import cv2\n",
    "import matplotlib.pyplot as plt\n",
    "from deepface import DeepFace\n",
    "import numpy as np"
   ]
  },
  {
   "cell_type": "code",
   "execution_count": null,
   "id": "56e40cc7-0a74-47dc-bbf3-c83127ca211c",
   "metadata": {},
   "outputs": [],
   "source": [
    "def analyze_video_emotions(video_path, frame_interval=30, detector_backend='dlib'):\n",
    "    # Open the video file\n",
    "    cap = cv2.VideoCapture(video_path)\n",
    "    \n",
    "    # Get video frame rate to convert frames to seconds\n",
    "    fps = cap.get(cv2.CAP_PROP_FPS)\n",
    "    \n",
    "    frame_count = 0\n",
    "    time_stamps = []  # Store timestamps in seconds\n",
    "    emotions_over_time = []  # Store detected emotions per frame\n",
    "    \n",
    "    # Loop through the video frames\n",
    "    while cap.isOpened():\n",
    "        ret, frame = cap.read()\n",
    "        if not ret:\n",
    "            break  # Exit if no more frames\n",
    "        \n",
    "        # Analyze every 'frame_interval' frame (to save processing time)\n",
    "        if frame_count % frame_interval == 0:\n",
    "            print(f\"Processing frame {frame_count}...\")  # Debug print\n",
    "            time_in_seconds = frame_count / fps  # Convert frame count to seconds\n",
    "            time_stamps.append(time_in_seconds)\n",
    "            \n",
    "            try:\n",
    "                # Step 4: Perform emotion detection on each frame\n",
    "                result = DeepFace.analyze(frame, actions=['emotion'], detector_backend=detector_backend, enforce_detection=False)\n",
    "\n",
    "                # Ensure we have a valid result before attempting to access it\n",
    "                if 'emotion' in result:\n",
    "                    emotions = result['emotion']\n",
    "                    emotions_over_time.append(emotions)  # Append detected emotions\n",
    "                    print(f\"Detected emotions in frame {frame_count}: {emotions}\")\n",
    "                else:\n",
    "                    print(f\"No face detected in frame {frame_count}\")\n",
    "                    emotions_over_time.append(None)  # Append None if no face detected\n",
    "\n",
    "                # For debugging purposes, show the frame with the detected face\n",
    "                if frame_count == 0 or frame_count == 150:\n",
    "                    cv2.imshow(f\"Frame {frame_count}\", frame)\n",
    "                    cv2.waitKey(0)  # Wait for key press to close the image window\n",
    "                    cv2.destroyAllWindows()\n",
    "\n",
    "            except Exception as e:\n",
    "                print(f\"Error analyzing frame {frame_count}: {e}\")\n",
    "                emotions_over_time.append(None)  # Append None in case of errors\n",
    "        \n",
    "        frame_count += 1\n",
    "    \n",
    "    # Release the video capture object\n",
    "    cap.release()\n",
    "    \n",
    "    return time_stamps, emotions_over_time"
   ]
  },
  {
   "cell_type": "code",
   "execution_count": null,
   "id": "ea847d3e-c8ab-4a21-98d0-8c875b1495c3",
   "metadata": {},
   "outputs": [],
   "source": [
    "def plot_emotions_over_time(time_stamps, emotions_over_time):\n",
    "    if len(emotions_over_time) == 0:\n",
    "        print(\"No emotion data to plot.\")\n",
    "        return\n",
    "\n",
    "    # Initialize data containers for the different emotions\n",
    "    emotion_keys = ['angry', 'disgust', 'fear', 'happy', 'sad', 'surprise', 'neutral']\n",
    "    emotion_data = {key: [] for key in emotion_keys}  # To store emotion intensities\n",
    "\n",
    "    # Organize emotion intensities by time\n",
    "    for emotions in emotions_over_time:\n",
    "        if emotions is not None:  # If emotions were detected in this frame\n",
    "            for key in emotion_keys:\n",
    "                emotion_data[key].append(emotions.get(key, 0))  # Append emotion or 0 if missing\n",
    "        else:\n",
    "            # Append 0 for each emotion if no emotions were detected\n",
    "            for key in emotion_keys:\n",
    "                emotion_data[key].append(0)\n",
    "\n",
    "    # Convert time_stamps to a numpy array for easier plotting\n",
    "    time_stamps = np.array(time_stamps)\n",
    "    \n",
    "    # Step 6: Plot the emotion data over time\n",
    "    plt.figure(figsize=(12, 6))\n",
    "    \n",
    "    for emotion, values in emotion_data.items():\n",
    "        plt.plot(time_stamps, values, label=emotion)\n",
    "    \n",
    "    plt.title(\"Emotion Changes Over Time\")\n",
    "    plt.xlabel(\"Time (seconds)\")\n",
    "    plt.ylabel(\"Emotion Intensity\")\n",
    "    plt.legend(loc=\"upper right\")\n",
    "    plt.grid(True)\n",
    "    plt.show()"
   ]
  },
  {
   "cell_type": "code",
   "execution_count": null,
   "id": "60950746-df11-42b3-8f0d-3b0d9dd035f4",
   "metadata": {},
   "outputs": [],
   "source": [
    "def main(video_path):\n",
    "    time_stamps, emotions_over_time = analyze_video_emotions(video_path, frame_interval=30, detector_backend='mtcnn')\n",
    "    if len(emotions_over_time) > 0:\n",
    "        plot_emotions_over_time(time_stamps, emotions_over_time)\n",
    "    else:\n",
    "        print(\"No emotions were detected in the video.\")"
   ]
  },
  {
   "cell_type": "code",
   "execution_count": null,
   "id": "4d365672-a398-43db-953d-6e8cdef16cd6",
   "metadata": {
    "scrolled": true
   },
   "outputs": [],
   "source": [
    "video_path = \"/Users/muttakibismoy/Downloads/archive/HACER/sitdown_angry_1_h.mp4\"\n",
    "main(video_path)"
   ]
  },
  {
   "cell_type": "code",
   "execution_count": null,
   "id": "f11ffa06-7689-471b-bd4c-dceecc701fd1",
   "metadata": {},
   "outputs": [],
   "source": []
  }
 ],
 "metadata": {
  "kernelspec": {
   "display_name": "Python 3 (ipykernel)",
   "language": "python",
   "name": "python3"
  },
  "language_info": {
   "codemirror_mode": {
    "name": "ipython",
    "version": 3
   },
   "file_extension": ".py",
   "mimetype": "text/x-python",
   "name": "python",
   "nbconvert_exporter": "python",
   "pygments_lexer": "ipython3",
   "version": "3.12.4"
  }
 },
 "nbformat": 4,
 "nbformat_minor": 5
}
